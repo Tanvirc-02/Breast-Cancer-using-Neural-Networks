{
  "nbformat": 4,
  "nbformat_minor": 0,
  "metadata": {
    "colab": {
      "provenance": [],
      "authorship_tag": "ABX9TyPSGZ9Fw7rlayjemP7IrJtU"
    },
    "kernelspec": {
      "name": "python3",
      "display_name": "Python 3"
    },
    "language_info": {
      "name": "python"
    }
  },
  "cells": [
    {
      "cell_type": "markdown",
      "source": [
        "Train a Neural Network with TensorFlow and evaluation of logistic regression using tensorflow."
      ],
      "metadata": {
        "id": "QXXlyTGHovOV"
      }
    },
    {
      "cell_type": "code",
      "execution_count": 1,
      "metadata": {
        "id": "lOF8JQDNinzC"
      },
      "outputs": [],
      "source": [
        "import numpy as np\n",
        "import pandas as pd\n",
        "import tensorflow as tf\n",
        "from sklearn.datasets import load_breast_cancer\n",
        "from sklearn.model_selection import train_test_split\n",
        "from sklearn.preprocessing import StandardScaler"
      ]
    },
    {
      "cell_type": "code",
      "source": [
        "df = load_breast_cancer()\n",
        "X = df.data\n",
        "y = df.target"
      ],
      "metadata": {
        "id": "e9BEc6ORjG63"
      },
      "execution_count": 2,
      "outputs": []
    },
    {
      "cell_type": "code",
      "source": [
        "#split into training and testing\n",
        "X_train, X_test, y_train, y_test = train_test_split(X, y, test_size=0.2,random_state=42) "
      ],
      "metadata": {
        "id": "LKhyqECcjxhc"
      },
      "execution_count": 3,
      "outputs": []
    },
    {
      "cell_type": "code",
      "source": [
        "#scale the input features using StandardScaler\n",
        "sc = StandardScaler()\n",
        "X_train = sc.fit_transform(X_train)\n",
        "X_test = sc.transform(X_test)"
      ],
      "metadata": {
        "id": "Icpe3NIdkiVX"
      },
      "execution_count": 4,
      "outputs": []
    },
    {
      "cell_type": "code",
      "source": [
        "#define NN architecture using tensorflow\n",
        "model = tf.keras.Sequential([\n",
        "    tf.keras.layers.Dense(32, activation='relu', input_shape=(X_train.shape[1],)),\n",
        "    tf.keras.layers.Dense(16, activation='relu'),\n",
        "    tf.keras.layers.Dense(1, activation='sigmoid')\n",
        "])"
      ],
      "metadata": {
        "id": "JXpwG6hck7fG"
      },
      "execution_count": 5,
      "outputs": []
    },
    {
      "cell_type": "code",
      "source": [
        "#compile model\n",
        "model.compile(optimizer='adam', loss='binary_crossentropy', metrics = ['accuracy'])"
      ],
      "metadata": {
        "id": "-wfqVxF9mpr4"
      },
      "execution_count": 6,
      "outputs": []
    },
    {
      "cell_type": "code",
      "source": [
        "#train the model\n",
        "model.fit(X_train, y_train, epochs = 10, batch_size=32)"
      ],
      "metadata": {
        "id": "nLQZYkN6ndbA",
        "colab": {
          "base_uri": "https://localhost:8080/"
        },
        "outputId": "259532d9-a395-46d4-8fdb-46f36249f743"
      },
      "execution_count": 7,
      "outputs": [
        {
          "output_type": "stream",
          "name": "stdout",
          "text": [
            "Epoch 1/10\n",
            "15/15 [==============================] - 1s 2ms/step - loss: 0.5683 - accuracy: 0.7055\n",
            "Epoch 2/10\n",
            "15/15 [==============================] - 0s 2ms/step - loss: 0.4247 - accuracy: 0.8945\n",
            "Epoch 3/10\n",
            "15/15 [==============================] - 0s 1ms/step - loss: 0.3306 - accuracy: 0.9319\n",
            "Epoch 4/10\n",
            "15/15 [==============================] - 0s 1ms/step - loss: 0.2556 - accuracy: 0.9495\n",
            "Epoch 5/10\n",
            "15/15 [==============================] - 0s 2ms/step - loss: 0.1959 - accuracy: 0.9560\n",
            "Epoch 6/10\n",
            "15/15 [==============================] - 0s 1ms/step - loss: 0.1542 - accuracy: 0.9648\n",
            "Epoch 7/10\n",
            "15/15 [==============================] - 0s 1ms/step - loss: 0.1289 - accuracy: 0.9714\n",
            "Epoch 8/10\n",
            "15/15 [==============================] - 0s 1ms/step - loss: 0.1100 - accuracy: 0.9758\n",
            "Epoch 9/10\n",
            "15/15 [==============================] - 0s 1ms/step - loss: 0.0976 - accuracy: 0.9758\n",
            "Epoch 10/10\n",
            "15/15 [==============================] - 0s 1ms/step - loss: 0.0872 - accuracy: 0.9758\n"
          ]
        },
        {
          "output_type": "execute_result",
          "data": {
            "text/plain": [
              "<keras.callbacks.History at 0x7fcbb467af20>"
            ]
          },
          "metadata": {},
          "execution_count": 7
        }
      ]
    },
    {
      "cell_type": "code",
      "source": [
        "#evaluate the model on test set using tensorflow\n",
        "loss, accuracy = model.evaluate(X_test, y_test)\n",
        "print(\"Test loss:\", loss)\n",
        "print(\"Test accuracy:\", accuracy)"
      ],
      "metadata": {
        "id": "UyD9YfPKoFmq",
        "colab": {
          "base_uri": "https://localhost:8080/"
        },
        "outputId": "b5b95547-c39b-4357-99ab-504788cd4506"
      },
      "execution_count": 8,
      "outputs": [
        {
          "output_type": "stream",
          "name": "stdout",
          "text": [
            "4/4 [==============================] - 0s 2ms/step - loss: 0.0819 - accuracy: 0.9649\n",
            "Test loss: 0.08192969858646393\n",
            "Test accuracy: 0.9649122953414917\n"
          ]
        }
      ]
    }
  ]
}